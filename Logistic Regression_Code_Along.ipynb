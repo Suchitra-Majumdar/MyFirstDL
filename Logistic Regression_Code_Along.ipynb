{
 "cells": [
  {
   "cell_type": "markdown",
   "metadata": {},
   "source": [
    "## Census Income Dataset\n",
    "\n",
    "## Problem Statement :\n",
    "The dataset given below contains the census information about the attributes of individuals as the features and their income as the target. The task is to predict whether a person makes over $50K a year or not."
   ]
  },
  {
   "cell_type": "markdown",
   "metadata": {},
   "source": [
    "## About the dataset:\n",
    "This data was extracted from the 1994 Census bureau database by Ronny Kohavi and Barry Becker (Data Mining and Visualization, Silicon Graphics).  \n",
    "\n",
    "The data has 1032 instances and 15 features. For your information the target variable `Income` has already been label encoded.\n",
    "1 indicates the income is greater than or equal to 50K. 0 indicates the income is less than 50K. Below is a brief about the features in the dataset.\n",
    "\n",
    "|Features|Description|\n",
    "|-----|-----|\n",
    "|age|Age of the person|\n",
    "|Workclass|Categorical variable having 8 categories each denoting the type of employment|\n",
    "|fnlwgt|final weight. |\n",
    "|education|Categorical variable with 16 categories each denoting the qualification of the person.|\n",
    "|education-num|number of years of education|\n",
    "|marital-status|Categorical variable with 7 categories|\n",
    "|occupation|Categorical variable with 14 categories each denoting the type of occupation of the individual|\n",
    "|relationship|Categorical variable with 6 categories.|\n",
    "|race|Categorical variable with 5 categories each denoting the ethnicity of the individual|\n",
    "|sex|Gender of the person|\n",
    "|capital-gain|Continuous| \n",
    "|capital-loss|Continuous|\n",
    "|hours-per-week|Working hours per week|\n",
    "|native-country|Categorical|\n",
    "|Income|Target variable. 1 indicates >=50k. 0 indicates <50K|\n",
    "\n"
   ]
  },
  {
   "cell_type": "markdown",
   "metadata": {},
   "source": [
    "### Reading the data using pandas module."
   ]
  },
  {
   "cell_type": "code",
   "execution_count": 21,
   "metadata": {},
   "outputs": [],
   "source": [
    "import pandas as pd\n",
    "import numpy as np\n",
    "from scipy.stats import skew\n",
    "from sklearn.preprocessing import LabelEncoder\n",
    "from sklearn.preprocessing import StandardScaler\n",
    "from sklearn.model_selection import train_test_split,KFold\n",
    "from sklearn.linear_model import LogisticRegression\n",
    "from sklearn.metrics import accuracy_score,classification_report,f1_score,confusion_matrix\n",
    "from sklearn.model_selection import GridSearchCV\n",
    "import matplotlib.pyplot as plt\n",
    "import seaborn as sns\n",
    "import warnings\n",
    "warnings.filterwarnings('ignore')"
   ]
  },
  {
   "cell_type": "code",
   "execution_count": 2,
   "metadata": {},
   "outputs": [],
   "source": [
    "dataframe = pd.read_csv('data/adult_preprocessed.csv',index_col=0)"
   ]
  },
  {
   "cell_type": "code",
   "execution_count": 3,
   "metadata": {},
   "outputs": [
    {
     "data": {
      "text/html": [
       "<div>\n",
       "<style scoped>\n",
       "    .dataframe tbody tr th:only-of-type {\n",
       "        vertical-align: middle;\n",
       "    }\n",
       "\n",
       "    .dataframe tbody tr th {\n",
       "        vertical-align: top;\n",
       "    }\n",
       "\n",
       "    .dataframe thead th {\n",
       "        text-align: right;\n",
       "    }\n",
       "</style>\n",
       "<table border=\"1\" class=\"dataframe\">\n",
       "  <thead>\n",
       "    <tr style=\"text-align: right;\">\n",
       "      <th></th>\n",
       "      <th>age</th>\n",
       "      <th>Workclass</th>\n",
       "      <th>fnlwgt</th>\n",
       "      <th>education</th>\n",
       "      <th>education-num</th>\n",
       "      <th>marital-status</th>\n",
       "      <th>occupation</th>\n",
       "      <th>relationship</th>\n",
       "      <th>race</th>\n",
       "      <th>sex</th>\n",
       "      <th>capital-gain</th>\n",
       "      <th>capital-loss</th>\n",
       "      <th>hours-per-week</th>\n",
       "      <th>native-country</th>\n",
       "      <th>Income</th>\n",
       "    </tr>\n",
       "  </thead>\n",
       "  <tbody>\n",
       "    <tr>\n",
       "      <th>0</th>\n",
       "      <td>39</td>\n",
       "      <td>State-gov</td>\n",
       "      <td>77516</td>\n",
       "      <td>Bachelors</td>\n",
       "      <td>13</td>\n",
       "      <td>Never-married</td>\n",
       "      <td>Adm-clerical</td>\n",
       "      <td>Not-in-family</td>\n",
       "      <td>White</td>\n",
       "      <td>Male</td>\n",
       "      <td>2174</td>\n",
       "      <td>0</td>\n",
       "      <td>40</td>\n",
       "      <td>United-States</td>\n",
       "      <td>0</td>\n",
       "    </tr>\n",
       "    <tr>\n",
       "      <th>1</th>\n",
       "      <td>50</td>\n",
       "      <td>Self-emp-not-inc</td>\n",
       "      <td>83311</td>\n",
       "      <td>Bachelors</td>\n",
       "      <td>13</td>\n",
       "      <td>Married-civ-spouse</td>\n",
       "      <td>Exec-managerial</td>\n",
       "      <td>Husband</td>\n",
       "      <td>White</td>\n",
       "      <td>Male</td>\n",
       "      <td>0</td>\n",
       "      <td>0</td>\n",
       "      <td>13</td>\n",
       "      <td>United-States</td>\n",
       "      <td>0</td>\n",
       "    </tr>\n",
       "    <tr>\n",
       "      <th>2</th>\n",
       "      <td>38</td>\n",
       "      <td>Private</td>\n",
       "      <td>215646</td>\n",
       "      <td>HS-grad</td>\n",
       "      <td>9</td>\n",
       "      <td>Divorced</td>\n",
       "      <td>Handlers-cleaners</td>\n",
       "      <td>Not-in-family</td>\n",
       "      <td>White</td>\n",
       "      <td>Male</td>\n",
       "      <td>0</td>\n",
       "      <td>0</td>\n",
       "      <td>40</td>\n",
       "      <td>United-States</td>\n",
       "      <td>0</td>\n",
       "    </tr>\n",
       "    <tr>\n",
       "      <th>3</th>\n",
       "      <td>53</td>\n",
       "      <td>Private</td>\n",
       "      <td>234721</td>\n",
       "      <td>11th</td>\n",
       "      <td>7</td>\n",
       "      <td>Married-civ-spouse</td>\n",
       "      <td>Handlers-cleaners</td>\n",
       "      <td>Husband</td>\n",
       "      <td>Black</td>\n",
       "      <td>Male</td>\n",
       "      <td>0</td>\n",
       "      <td>0</td>\n",
       "      <td>40</td>\n",
       "      <td>United-States</td>\n",
       "      <td>0</td>\n",
       "    </tr>\n",
       "    <tr>\n",
       "      <th>4</th>\n",
       "      <td>28</td>\n",
       "      <td>Private</td>\n",
       "      <td>338409</td>\n",
       "      <td>Bachelors</td>\n",
       "      <td>13</td>\n",
       "      <td>Married-civ-spouse</td>\n",
       "      <td>Prof-specialty</td>\n",
       "      <td>Wife</td>\n",
       "      <td>Black</td>\n",
       "      <td>Female</td>\n",
       "      <td>0</td>\n",
       "      <td>0</td>\n",
       "      <td>40</td>\n",
       "      <td>Cuba</td>\n",
       "      <td>0</td>\n",
       "    </tr>\n",
       "  </tbody>\n",
       "</table>\n",
       "</div>"
      ],
      "text/plain": [
       "   age          Workclass  fnlwgt   education  education-num  \\\n",
       "0   39          State-gov   77516   Bachelors             13   \n",
       "1   50   Self-emp-not-inc   83311   Bachelors             13   \n",
       "2   38            Private  215646     HS-grad              9   \n",
       "3   53            Private  234721        11th              7   \n",
       "4   28            Private  338409   Bachelors             13   \n",
       "\n",
       "        marital-status          occupation    relationship    race      sex  \\\n",
       "0        Never-married        Adm-clerical   Not-in-family   White     Male   \n",
       "1   Married-civ-spouse     Exec-managerial         Husband   White     Male   \n",
       "2             Divorced   Handlers-cleaners   Not-in-family   White     Male   \n",
       "3   Married-civ-spouse   Handlers-cleaners         Husband   Black     Male   \n",
       "4   Married-civ-spouse      Prof-specialty            Wife   Black   Female   \n",
       "\n",
       "   capital-gain  capital-loss  hours-per-week  native-country  Income  \n",
       "0          2174             0              40   United-States       0  \n",
       "1             0             0              13   United-States       0  \n",
       "2             0             0              40   United-States       0  \n",
       "3             0             0              40   United-States       0  \n",
       "4             0             0              40            Cuba       0  "
      ]
     },
     "execution_count": 3,
     "metadata": {},
     "output_type": "execute_result"
    }
   ],
   "source": [
    "dataframe.head()"
   ]
  },
  {
   "cell_type": "markdown",
   "metadata": {},
   "source": [
    "### Check for null values and get a summary of all the columns in the dataset"
   ]
  },
  {
   "cell_type": "code",
   "execution_count": 4,
   "metadata": {},
   "outputs": [
    {
     "name": "stdout",
     "output_type": "stream",
     "text": [
      "<class 'pandas.core.frame.DataFrame'>\n",
      "Int64Index: 1032 entries, 0 to 1119\n",
      "Data columns (total 15 columns):\n",
      " #   Column          Non-Null Count  Dtype \n",
      "---  ------          --------------  ----- \n",
      " 0   age             1032 non-null   int64 \n",
      " 1   Workclass       1032 non-null   object\n",
      " 2   fnlwgt          1032 non-null   int64 \n",
      " 3   education       1032 non-null   object\n",
      " 4   education-num   1032 non-null   int64 \n",
      " 5   marital-status  1032 non-null   object\n",
      " 6   occupation      1032 non-null   object\n",
      " 7   relationship    1032 non-null   object\n",
      " 8   race            1032 non-null   object\n",
      " 9   sex             1032 non-null   object\n",
      " 10  capital-gain    1032 non-null   int64 \n",
      " 11  capital-loss    1032 non-null   int64 \n",
      " 12  hours-per-week  1032 non-null   int64 \n",
      " 13  native-country  1032 non-null   object\n",
      " 14  Income          1032 non-null   int64 \n",
      "dtypes: int64(7), object(8)\n",
      "memory usage: 129.0+ KB\n"
     ]
    }
   ],
   "source": [
    "# Check for null values\n",
    "dataframe.info()"
   ]
  },
  {
   "cell_type": "code",
   "execution_count": 5,
   "metadata": {},
   "outputs": [
    {
     "data": {
      "text/html": [
       "<div>\n",
       "<style scoped>\n",
       "    .dataframe tbody tr th:only-of-type {\n",
       "        vertical-align: middle;\n",
       "    }\n",
       "\n",
       "    .dataframe tbody tr th {\n",
       "        vertical-align: top;\n",
       "    }\n",
       "\n",
       "    .dataframe thead th {\n",
       "        text-align: right;\n",
       "    }\n",
       "</style>\n",
       "<table border=\"1\" class=\"dataframe\">\n",
       "  <thead>\n",
       "    <tr style=\"text-align: right;\">\n",
       "      <th></th>\n",
       "      <th>age</th>\n",
       "      <th>fnlwgt</th>\n",
       "      <th>education-num</th>\n",
       "      <th>capital-gain</th>\n",
       "      <th>capital-loss</th>\n",
       "      <th>hours-per-week</th>\n",
       "      <th>Income</th>\n",
       "    </tr>\n",
       "  </thead>\n",
       "  <tbody>\n",
       "    <tr>\n",
       "      <th>count</th>\n",
       "      <td>1032.000000</td>\n",
       "      <td>1.032000e+03</td>\n",
       "      <td>1032.000000</td>\n",
       "      <td>1032.00000</td>\n",
       "      <td>1032.000000</td>\n",
       "      <td>1032.000000</td>\n",
       "      <td>1032.000000</td>\n",
       "    </tr>\n",
       "    <tr>\n",
       "      <th>mean</th>\n",
       "      <td>37.954457</td>\n",
       "      <td>1.918318e+05</td>\n",
       "      <td>10.221899</td>\n",
       "      <td>560.19186</td>\n",
       "      <td>102.870155</td>\n",
       "      <td>40.706395</td>\n",
       "      <td>0.246124</td>\n",
       "    </tr>\n",
       "    <tr>\n",
       "      <th>std</th>\n",
       "      <td>12.825353</td>\n",
       "      <td>1.074243e+05</td>\n",
       "      <td>2.501636</td>\n",
       "      <td>2406.47961</td>\n",
       "      <td>432.251488</td>\n",
       "      <td>11.736603</td>\n",
       "      <td>0.430961</td>\n",
       "    </tr>\n",
       "    <tr>\n",
       "      <th>min</th>\n",
       "      <td>17.000000</td>\n",
       "      <td>2.117400e+04</td>\n",
       "      <td>1.000000</td>\n",
       "      <td>0.00000</td>\n",
       "      <td>0.000000</td>\n",
       "      <td>1.000000</td>\n",
       "      <td>0.000000</td>\n",
       "    </tr>\n",
       "    <tr>\n",
       "      <th>25%</th>\n",
       "      <td>28.000000</td>\n",
       "      <td>1.155792e+05</td>\n",
       "      <td>9.000000</td>\n",
       "      <td>0.00000</td>\n",
       "      <td>0.000000</td>\n",
       "      <td>40.000000</td>\n",
       "      <td>0.000000</td>\n",
       "    </tr>\n",
       "    <tr>\n",
       "      <th>50%</th>\n",
       "      <td>37.000000</td>\n",
       "      <td>1.807065e+05</td>\n",
       "      <td>10.000000</td>\n",
       "      <td>0.00000</td>\n",
       "      <td>0.000000</td>\n",
       "      <td>40.000000</td>\n",
       "      <td>0.000000</td>\n",
       "    </tr>\n",
       "    <tr>\n",
       "      <th>75%</th>\n",
       "      <td>46.000000</td>\n",
       "      <td>2.461932e+05</td>\n",
       "      <td>13.000000</td>\n",
       "      <td>0.00000</td>\n",
       "      <td>0.000000</td>\n",
       "      <td>45.000000</td>\n",
       "      <td>0.000000</td>\n",
       "    </tr>\n",
       "    <tr>\n",
       "      <th>max</th>\n",
       "      <td>90.000000</td>\n",
       "      <td>1.033222e+06</td>\n",
       "      <td>16.000000</td>\n",
       "      <td>25236.00000</td>\n",
       "      <td>2415.000000</td>\n",
       "      <td>99.000000</td>\n",
       "      <td>1.000000</td>\n",
       "    </tr>\n",
       "  </tbody>\n",
       "</table>\n",
       "</div>"
      ],
      "text/plain": [
       "               age        fnlwgt  education-num  capital-gain  capital-loss  \\\n",
       "count  1032.000000  1.032000e+03    1032.000000    1032.00000   1032.000000   \n",
       "mean     37.954457  1.918318e+05      10.221899     560.19186    102.870155   \n",
       "std      12.825353  1.074243e+05       2.501636    2406.47961    432.251488   \n",
       "min      17.000000  2.117400e+04       1.000000       0.00000      0.000000   \n",
       "25%      28.000000  1.155792e+05       9.000000       0.00000      0.000000   \n",
       "50%      37.000000  1.807065e+05      10.000000       0.00000      0.000000   \n",
       "75%      46.000000  2.461932e+05      13.000000       0.00000      0.000000   \n",
       "max      90.000000  1.033222e+06      16.000000   25236.00000   2415.000000   \n",
       "\n",
       "       hours-per-week       Income  \n",
       "count     1032.000000  1032.000000  \n",
       "mean        40.706395     0.246124  \n",
       "std         11.736603     0.430961  \n",
       "min          1.000000     0.000000  \n",
       "25%         40.000000     0.000000  \n",
       "50%         40.000000     0.000000  \n",
       "75%         45.000000     0.000000  \n",
       "max         99.000000     1.000000  "
      ]
     },
     "execution_count": 5,
     "metadata": {},
     "output_type": "execute_result"
    }
   ],
   "source": [
    "# Get a summary of the columns in the dataset\n",
    "dataframe.describe()"
   ]
  },
  {
   "cell_type": "markdown",
   "metadata": {},
   "source": [
    "It can be seen that there are no null values in any of the columns. So it is a pretty clean dataset.<br/>\n",
    "The minimum, 25th percentile, median, 75th percentile values for the columns `capital-gain` and `capital-loss` are 0."
   ]
  },
  {
   "cell_type": "markdown",
   "metadata": {},
   "source": [
    "### For further analysis split to bring all the continuous variables together and categorical variables together."
   ]
  },
  {
   "cell_type": "code",
   "execution_count": 6,
   "metadata": {},
   "outputs": [],
   "source": [
    "# Seperate continuous variables and categorical variables\n",
    "dataframe_con = dataframe.select_dtypes(include=np.number)\n",
    "dataframe_cat = dataframe.select_dtypes(exclude=np.number)"
   ]
  },
  {
   "cell_type": "markdown",
   "metadata": {},
   "source": [
    "###  Plotting a stacked bar chart, have an estimate of the number of people with income above and below 50K with respect to each of the categorical features"
   ]
  },
  {
   "cell_type": "code",
   "execution_count": 8,
   "metadata": {},
   "outputs": [
    {
     "data": {
      "image/png": "[encoded data removed]",
      "text/plain": [
       "<Figure size 720x360 with 1 Axes>"
      ]
     },
     "metadata": {
      "needs_background": "light"
     },
     "output_type": "display_data"
    },
    {
     "data": {
      "image/png": "[encoded data removed]",
      "text/plain": [
       "<Figure size 720x360 with 1 Axes>"
      ]
     },
     "metadata": {
      "needs_background": "light"
     },
     "output_type": "display_data"
    },
    {
     "data": {
      "image/png": "[encoded data removed]",
      "text/plain": [
       "<Figure size 720x360 with 1 Axes>"
      ]
     },
     "metadata": {
      "needs_background": "light"
     },
     "output_type": "display_data"
    },
    {
     "data": {
      "image/png": "[encoded data removed]",
      "text/plain": [
       "<Figure size 720x360 with 1 Axes>"
      ]
     },
     "metadata": {
      "needs_background": "light"
     },
     "output_type": "display_data"
    },
    {
     "data": {
      "image/png": "[encoded data removed]",
      "text/plain": [
       "<Figure size 720x360 with 1 Axes>"
      ]
     },
     "metadata": {
      "needs_background": "light"
     },
     "output_type": "display_data"
    },
    {
     "data": {
      "image/png": "[encoded data removed]",
      "text/plain": [
       "<Figure size 720x360 with 1 Axes>"
      ]
     },
     "metadata": {
      "needs_background": "light"
     },
     "output_type": "display_data"
    },
    {
     "data": {
      "image/png": "[encoded data removed]",
      "text/plain": [
       "<Figure size 720x360 with 1 Axes>"
      ]
     },
     "metadata": {
      "needs_background": "light"
     },
     "output_type": "display_data"
    },
    {
     "data": {
      "image/png": "[encoded data removed]",
      "text/plain": [
       "<Figure size 720x360 with 1 Axes>"
      ]
     },
     "metadata": {
      "needs_background": "light"
     },
     "output_type": "display_data"
    }
   ],
   "source": [
    "for i in dataframe_cat:\n",
    "    dataframe.groupby(i)['Income'].value_counts().unstack().plot(kind='bar',stacked=True,figsize=(10,5))\n",
    "\n"
   ]
  },
  {
   "cell_type": "markdown",
   "metadata": {},
   "source": [
    "### What can you infer from the above visualisations ?"
   ]
  },
  {
   "cell_type": "markdown",
   "metadata": {},
   "source": [
    "### Plot a histogram for all the continuous variables to check for skewness"
   ]
  },
  {
   "cell_type": "code",
   "execution_count": 14,
   "metadata": {
    "scrolled": false
   },
   "outputs": [
    {
     "data": {
      "image/png": "[encoded data removed]",
      "text/plain": [
       "<Figure size 432x288 with 1 Axes>"
      ]
     },
     "metadata": {
      "needs_background": "light"
     },
     "output_type": "display_data"
    },
    {
     "data": {
      "image/png": "[encoded data removed]",
      "text/plain": [
       "<Figure size 432x288 with 1 Axes>"
      ]
     },
     "metadata": {
      "needs_background": "light"
     },
     "output_type": "display_data"
    },
    {
     "data": {
      "image/png": "[encoded data removed]",
      "text/plain": [
       "<Figure size 432x288 with 1 Axes>"
      ]
     },
     "metadata": {
      "needs_background": "light"
     },
     "output_type": "display_data"
    },
    {
     "data": {
      "image/png": "[encoded data removed]",
      "text/plain": [
       "<Figure size 432x288 with 1 Axes>"
      ]
     },
     "metadata": {
      "needs_background": "light"
     },
     "output_type": "display_data"
    },
    {
     "data": {
      "image/png": "[encoded data removed]",
      "text/plain": [
       "<Figure size 432x288 with 1 Axes>"
      ]
     },
     "metadata": {
      "needs_background": "light"
     },
     "output_type": "display_data"
    }
   ],
   "source": [
    "for i in dataframe_con:\n",
    "    plt.title(i)\n",
    "    plt.hist(dataframe_con[i])\n",
    "    plt.show()"
   ]
  },
  {
   "cell_type": "markdown",
   "metadata": {},
   "source": [
    "### Majority of values in capital-gain and capital-loss are zeros. So remove the columns"
   ]
  },
  {
   "cell_type": "code",
   "execution_count": 16,
   "metadata": {},
   "outputs": [],
   "source": [
    "dataframe_con.drop(['capital-gain','capital-loss'],1,inplace=True)"
   ]
  },
  {
   "cell_type": "markdown",
   "metadata": {},
   "source": [
    "### Check for skewness in the continuous data"
   ]
  },
  {
   "cell_type": "code",
   "execution_count": 17,
   "metadata": {},
   "outputs": [
    {
     "data": {
      "text/html": [
       "<div>\n",
       "<style scoped>\n",
       "    .dataframe tbody tr th:only-of-type {\n",
       "        vertical-align: middle;\n",
       "    }\n",
       "\n",
       "    .dataframe tbody tr th {\n",
       "        vertical-align: top;\n",
       "    }\n",
       "\n",
       "    .dataframe thead th {\n",
       "        text-align: right;\n",
       "    }\n",
       "</style>\n",
       "<table border=\"1\" class=\"dataframe\">\n",
       "  <thead>\n",
       "    <tr style=\"text-align: right;\">\n",
       "      <th></th>\n",
       "      <th>name</th>\n",
       "      <th>skew</th>\n",
       "    </tr>\n",
       "  </thead>\n",
       "  <tbody>\n",
       "    <tr>\n",
       "      <th>0</th>\n",
       "      <td>age</td>\n",
       "      <td>0.616053</td>\n",
       "    </tr>\n",
       "    <tr>\n",
       "      <th>1</th>\n",
       "      <td>fnlwgt</td>\n",
       "      <td>-0.775995</td>\n",
       "    </tr>\n",
       "    <tr>\n",
       "      <th>2</th>\n",
       "      <td>education-num</td>\n",
       "      <td>-0.302202</td>\n",
       "    </tr>\n",
       "    <tr>\n",
       "      <th>3</th>\n",
       "      <td>hours-per-week</td>\n",
       "      <td>0.163186</td>\n",
       "    </tr>\n",
       "    <tr>\n",
       "      <th>4</th>\n",
       "      <td>Income</td>\n",
       "      <td>1.178758</td>\n",
       "    </tr>\n",
       "  </tbody>\n",
       "</table>\n",
       "</div>"
      ],
      "text/plain": [
       "             name      skew\n",
       "0             age  0.616053\n",
       "1          fnlwgt -0.775995\n",
       "2   education-num -0.302202\n",
       "3  hours-per-week  0.163186\n",
       "4          Income  1.178758"
      ]
     },
     "execution_count": 17,
     "metadata": {},
     "output_type": "execute_result"
    }
   ],
   "source": [
    "skewness = pd.DataFrame(data={'name':list(dataframe_con),'skew':skew(dataframe_con)})\n",
    "skewness"
   ]
  },
  {
   "cell_type": "markdown",
   "metadata": {},
   "source": [
    "### The column `fnlwgt` is a highly right skewed column. Remove the skewness using a log transform and then check if the skewness has been removed by plotting its histogram"
   ]
  },
  {
   "cell_type": "code",
   "execution_count": 18,
   "metadata": {},
   "outputs": [
    {
     "data": {
      "image/png": "[encoded data removed]",
      "text/plain": [
       "<Figure size 432x288 with 1 Axes>"
      ]
     },
     "metadata": {
      "needs_background": "light"
     },
     "output_type": "display_data"
    }
   ],
   "source": [
    "dataframe_con['fnlwgt'] = np.log1p(dataframe_con['fnlwgt'])\n",
    "\n",
    "plt.hist(dataframe_con['fnlwgt']);"
   ]
  },
  {
   "cell_type": "markdown",
   "metadata": {},
   "source": [
    "### Check for the pearson correlation between the continuous variables by plotting a heatmap"
   ]
  },
  {
   "cell_type": "code",
   "execution_count": 22,
   "metadata": {},
   "outputs": [
    {
     "data": {
      "text/plain": [
       "<matplotlib.axes._subplots.AxesSubplot at 0x18f0f1b89b0>"
      ]
     },
     "execution_count": 22,
     "metadata": {},
     "output_type": "execute_result"
    },
    {
     "data": {
      "image/png": "[encoded data removed]",
      "text/plain": [
       "<Figure size 432x288 with 2 Axes>"
      ]
     },
     "metadata": {
      "needs_background": "light"
     },
     "output_type": "display_data"
    }
   ],
   "source": [
    "# Check for correlation between continuous variables\n",
    "sns.heatmap(dataframe_con.corr(),cmap='viridis',annot=True)"
   ]
  },
  {
   "cell_type": "markdown",
   "metadata": {},
   "source": [
    "### Label Encode all the categorical variables"
   ]
  },
  {
   "cell_type": "code",
   "execution_count": 23,
   "metadata": {},
   "outputs": [
    {
     "data": {
      "text/html": [
       "<div>\n",
       "<style scoped>\n",
       "    .dataframe tbody tr th:only-of-type {\n",
       "        vertical-align: middle;\n",
       "    }\n",
       "\n",
       "    .dataframe tbody tr th {\n",
       "        vertical-align: top;\n",
       "    }\n",
       "\n",
       "    .dataframe thead th {\n",
       "        text-align: right;\n",
       "    }\n",
       "</style>\n",
       "<table border=\"1\" class=\"dataframe\">\n",
       "  <thead>\n",
       "    <tr style=\"text-align: right;\">\n",
       "      <th></th>\n",
       "      <th>Workclass</th>\n",
       "      <th>education</th>\n",
       "      <th>marital-status</th>\n",
       "      <th>occupation</th>\n",
       "      <th>relationship</th>\n",
       "      <th>race</th>\n",
       "      <th>sex</th>\n",
       "      <th>native-country</th>\n",
       "    </tr>\n",
       "  </thead>\n",
       "  <tbody>\n",
       "    <tr>\n",
       "      <th>0</th>\n",
       "      <td>5</td>\n",
       "      <td>9</td>\n",
       "      <td>4</td>\n",
       "      <td>0</td>\n",
       "      <td>1</td>\n",
       "      <td>4</td>\n",
       "      <td>1</td>\n",
       "      <td>28</td>\n",
       "    </tr>\n",
       "    <tr>\n",
       "      <th>1</th>\n",
       "      <td>4</td>\n",
       "      <td>9</td>\n",
       "      <td>2</td>\n",
       "      <td>3</td>\n",
       "      <td>0</td>\n",
       "      <td>4</td>\n",
       "      <td>1</td>\n",
       "      <td>28</td>\n",
       "    </tr>\n",
       "    <tr>\n",
       "      <th>2</th>\n",
       "      <td>2</td>\n",
       "      <td>11</td>\n",
       "      <td>0</td>\n",
       "      <td>5</td>\n",
       "      <td>1</td>\n",
       "      <td>4</td>\n",
       "      <td>1</td>\n",
       "      <td>28</td>\n",
       "    </tr>\n",
       "    <tr>\n",
       "      <th>3</th>\n",
       "      <td>2</td>\n",
       "      <td>1</td>\n",
       "      <td>2</td>\n",
       "      <td>5</td>\n",
       "      <td>0</td>\n",
       "      <td>2</td>\n",
       "      <td>1</td>\n",
       "      <td>28</td>\n",
       "    </tr>\n",
       "    <tr>\n",
       "      <th>4</th>\n",
       "      <td>2</td>\n",
       "      <td>9</td>\n",
       "      <td>2</td>\n",
       "      <td>9</td>\n",
       "      <td>5</td>\n",
       "      <td>2</td>\n",
       "      <td>0</td>\n",
       "      <td>4</td>\n",
       "    </tr>\n",
       "  </tbody>\n",
       "</table>\n",
       "</div>"
      ],
      "text/plain": [
       "   Workclass  education  marital-status  occupation  relationship  race  sex  \\\n",
       "0          5          9               4           0             1     4    1   \n",
       "1          4          9               2           3             0     4    1   \n",
       "2          2         11               0           5             1     4    1   \n",
       "3          2          1               2           5             0     2    1   \n",
       "4          2          9               2           9             5     2    0   \n",
       "\n",
       "   native-country  \n",
       "0              28  \n",
       "1              28  \n",
       "2              28  \n",
       "3              28  \n",
       "4               4  "
      ]
     },
     "execution_count": 23,
     "metadata": {},
     "output_type": "execute_result"
    }
   ],
   "source": [
    "# Label Encode Categorical variables\n",
    "\n",
    "le = LabelEncoder()\n",
    "for col in dataframe_cat:\n",
    "    dataframe_cat[col] = le.fit_transform(dataframe_cat[col])\n",
    "     \n",
    "\n",
    "dataframe_cat.head()"
   ]
  },
  {
   "cell_type": "markdown",
   "metadata": {},
   "source": [
    "### Concatenate both the continuous and categorical dataframes"
   ]
  },
  {
   "cell_type": "code",
   "execution_count": 24,
   "metadata": {},
   "outputs": [],
   "source": [
    "new_dataframe = pd.concat([dataframe_con,dataframe_cat],axis=1,ignore_index=True)\n",
    "\n",
    "new_dataframe.columns = ['age','fnlwgt','education-num','hours-per-week','Income','Workclass','education','marital-status','occupation','relationship','race','sex','native-country']"
   ]
  },
  {
   "cell_type": "code",
   "execution_count": 25,
   "metadata": {},
   "outputs": [
    {
     "data": {
      "text/html": [
       "<div>\n",
       "<style scoped>\n",
       "    .dataframe tbody tr th:only-of-type {\n",
       "        vertical-align: middle;\n",
       "    }\n",
       "\n",
       "    .dataframe tbody tr th {\n",
       "        vertical-align: top;\n",
       "    }\n",
       "\n",
       "    .dataframe thead th {\n",
       "        text-align: right;\n",
       "    }\n",
       "</style>\n",
       "<table border=\"1\" class=\"dataframe\">\n",
       "  <thead>\n",
       "    <tr style=\"text-align: right;\">\n",
       "      <th></th>\n",
       "      <th>age</th>\n",
       "      <th>fnlwgt</th>\n",
       "      <th>education-num</th>\n",
       "      <th>hours-per-week</th>\n",
       "      <th>Income</th>\n",
       "      <th>Workclass</th>\n",
       "      <th>education</th>\n",
       "      <th>marital-status</th>\n",
       "      <th>occupation</th>\n",
       "      <th>relationship</th>\n",
       "      <th>race</th>\n",
       "      <th>sex</th>\n",
       "      <th>native-country</th>\n",
       "    </tr>\n",
       "  </thead>\n",
       "  <tbody>\n",
       "    <tr>\n",
       "      <th>0</th>\n",
       "      <td>39</td>\n",
       "      <td>2.506199</td>\n",
       "      <td>13</td>\n",
       "      <td>40</td>\n",
       "      <td>0</td>\n",
       "      <td>5</td>\n",
       "      <td>9</td>\n",
       "      <td>4</td>\n",
       "      <td>0</td>\n",
       "      <td>1</td>\n",
       "      <td>4</td>\n",
       "      <td>1</td>\n",
       "      <td>28</td>\n",
       "    </tr>\n",
       "    <tr>\n",
       "      <th>1</th>\n",
       "      <td>50</td>\n",
       "      <td>2.512064</td>\n",
       "      <td>13</td>\n",
       "      <td>13</td>\n",
       "      <td>0</td>\n",
       "      <td>4</td>\n",
       "      <td>9</td>\n",
       "      <td>2</td>\n",
       "      <td>3</td>\n",
       "      <td>0</td>\n",
       "      <td>4</td>\n",
       "      <td>1</td>\n",
       "      <td>28</td>\n",
       "    </tr>\n",
       "    <tr>\n",
       "      <th>2</th>\n",
       "      <td>38</td>\n",
       "      <td>2.586364</td>\n",
       "      <td>9</td>\n",
       "      <td>40</td>\n",
       "      <td>0</td>\n",
       "      <td>2</td>\n",
       "      <td>11</td>\n",
       "      <td>0</td>\n",
       "      <td>5</td>\n",
       "      <td>1</td>\n",
       "      <td>4</td>\n",
       "      <td>1</td>\n",
       "      <td>28</td>\n",
       "    </tr>\n",
       "    <tr>\n",
       "      <th>3</th>\n",
       "      <td>53</td>\n",
       "      <td>2.592726</td>\n",
       "      <td>7</td>\n",
       "      <td>40</td>\n",
       "      <td>0</td>\n",
       "      <td>2</td>\n",
       "      <td>1</td>\n",
       "      <td>2</td>\n",
       "      <td>5</td>\n",
       "      <td>0</td>\n",
       "      <td>2</td>\n",
       "      <td>1</td>\n",
       "      <td>28</td>\n",
       "    </tr>\n",
       "    <tr>\n",
       "      <th>4</th>\n",
       "      <td>28</td>\n",
       "      <td>2.619730</td>\n",
       "      <td>13</td>\n",
       "      <td>40</td>\n",
       "      <td>0</td>\n",
       "      <td>2</td>\n",
       "      <td>9</td>\n",
       "      <td>2</td>\n",
       "      <td>9</td>\n",
       "      <td>5</td>\n",
       "      <td>2</td>\n",
       "      <td>0</td>\n",
       "      <td>4</td>\n",
       "    </tr>\n",
       "  </tbody>\n",
       "</table>\n",
       "</div>"
      ],
      "text/plain": [
       "   age    fnlwgt  education-num  hours-per-week  Income  Workclass  education  \\\n",
       "0   39  2.506199             13              40       0          5          9   \n",
       "1   50  2.512064             13              13       0          4          9   \n",
       "2   38  2.586364              9              40       0          2         11   \n",
       "3   53  2.592726              7              40       0          2          1   \n",
       "4   28  2.619730             13              40       0          2          9   \n",
       "\n",
       "   marital-status  occupation  relationship  race  sex  native-country  \n",
       "0               4           0             1     4    1              28  \n",
       "1               2           3             0     4    1              28  \n",
       "2               0           5             1     4    1              28  \n",
       "3               2           5             0     2    1              28  \n",
       "4               2           9             5     2    0               4  "
      ]
     },
     "execution_count": 25,
     "metadata": {},
     "output_type": "execute_result"
    }
   ],
   "source": [
    "new_dataframe.head()"
   ]
  },
  {
   "cell_type": "code",
   "execution_count": 26,
   "metadata": {},
   "outputs": [],
   "source": [
    "columns = list(new_dataframe)\n",
    "columns[4],columns[-1] = 'native-country','Income'"
   ]
  },
  {
   "cell_type": "code",
   "execution_count": 27,
   "metadata": {},
   "outputs": [],
   "source": [
    "new_dataframe = new_dataframe[columns]"
   ]
  },
  {
   "cell_type": "code",
   "execution_count": 28,
   "metadata": {},
   "outputs": [
    {
     "data": {
      "text/html": [
       "<div>\n",
       "<style scoped>\n",
       "    .dataframe tbody tr th:only-of-type {\n",
       "        vertical-align: middle;\n",
       "    }\n",
       "\n",
       "    .dataframe tbody tr th {\n",
       "        vertical-align: top;\n",
       "    }\n",
       "\n",
       "    .dataframe thead th {\n",
       "        text-align: right;\n",
       "    }\n",
       "</style>\n",
       "<table border=\"1\" class=\"dataframe\">\n",
       "  <thead>\n",
       "    <tr style=\"text-align: right;\">\n",
       "      <th></th>\n",
       "      <th>age</th>\n",
       "      <th>fnlwgt</th>\n",
       "      <th>education-num</th>\n",
       "      <th>hours-per-week</th>\n",
       "      <th>native-country</th>\n",
       "      <th>Workclass</th>\n",
       "      <th>education</th>\n",
       "      <th>marital-status</th>\n",
       "      <th>occupation</th>\n",
       "      <th>relationship</th>\n",
       "      <th>race</th>\n",
       "      <th>sex</th>\n",
       "      <th>Income</th>\n",
       "    </tr>\n",
       "  </thead>\n",
       "  <tbody>\n",
       "    <tr>\n",
       "      <th>0</th>\n",
       "      <td>39</td>\n",
       "      <td>2.506199</td>\n",
       "      <td>13</td>\n",
       "      <td>40</td>\n",
       "      <td>28</td>\n",
       "      <td>5</td>\n",
       "      <td>9</td>\n",
       "      <td>4</td>\n",
       "      <td>0</td>\n",
       "      <td>1</td>\n",
       "      <td>4</td>\n",
       "      <td>1</td>\n",
       "      <td>0</td>\n",
       "    </tr>\n",
       "    <tr>\n",
       "      <th>1</th>\n",
       "      <td>50</td>\n",
       "      <td>2.512064</td>\n",
       "      <td>13</td>\n",
       "      <td>13</td>\n",
       "      <td>28</td>\n",
       "      <td>4</td>\n",
       "      <td>9</td>\n",
       "      <td>2</td>\n",
       "      <td>3</td>\n",
       "      <td>0</td>\n",
       "      <td>4</td>\n",
       "      <td>1</td>\n",
       "      <td>0</td>\n",
       "    </tr>\n",
       "    <tr>\n",
       "      <th>2</th>\n",
       "      <td>38</td>\n",
       "      <td>2.586364</td>\n",
       "      <td>9</td>\n",
       "      <td>40</td>\n",
       "      <td>28</td>\n",
       "      <td>2</td>\n",
       "      <td>11</td>\n",
       "      <td>0</td>\n",
       "      <td>5</td>\n",
       "      <td>1</td>\n",
       "      <td>4</td>\n",
       "      <td>1</td>\n",
       "      <td>0</td>\n",
       "    </tr>\n",
       "    <tr>\n",
       "      <th>3</th>\n",
       "      <td>53</td>\n",
       "      <td>2.592726</td>\n",
       "      <td>7</td>\n",
       "      <td>40</td>\n",
       "      <td>28</td>\n",
       "      <td>2</td>\n",
       "      <td>1</td>\n",
       "      <td>2</td>\n",
       "      <td>5</td>\n",
       "      <td>0</td>\n",
       "      <td>2</td>\n",
       "      <td>1</td>\n",
       "      <td>0</td>\n",
       "    </tr>\n",
       "    <tr>\n",
       "      <th>4</th>\n",
       "      <td>28</td>\n",
       "      <td>2.619730</td>\n",
       "      <td>13</td>\n",
       "      <td>40</td>\n",
       "      <td>4</td>\n",
       "      <td>2</td>\n",
       "      <td>9</td>\n",
       "      <td>2</td>\n",
       "      <td>9</td>\n",
       "      <td>5</td>\n",
       "      <td>2</td>\n",
       "      <td>0</td>\n",
       "      <td>0</td>\n",
       "    </tr>\n",
       "  </tbody>\n",
       "</table>\n",
       "</div>"
      ],
      "text/plain": [
       "   age    fnlwgt  education-num  hours-per-week  native-country  Workclass  \\\n",
       "0   39  2.506199             13              40              28          5   \n",
       "1   50  2.512064             13              13              28          4   \n",
       "2   38  2.586364              9              40              28          2   \n",
       "3   53  2.592726              7              40              28          2   \n",
       "4   28  2.619730             13              40               4          2   \n",
       "\n",
       "   education  marital-status  occupation  relationship  race  sex  Income  \n",
       "0          9               4           0             1     4    1       0  \n",
       "1          9               2           3             0     4    1       0  \n",
       "2         11               0           5             1     4    1       0  \n",
       "3          1               2           5             0     2    1       0  \n",
       "4          9               2           9             5     2    0       0  "
      ]
     },
     "execution_count": 28,
     "metadata": {},
     "output_type": "execute_result"
    }
   ],
   "source": [
    "new_dataframe.head()"
   ]
  },
  {
   "cell_type": "markdown",
   "metadata": {},
   "source": []
  },
  {
   "cell_type": "markdown",
   "metadata": {},
   "source": [
    "### Split into features and target"
   ]
  },
  {
   "cell_type": "code",
   "execution_count": 29,
   "metadata": {},
   "outputs": [],
   "source": [
    "X = new_dataframe.iloc[:,:-1]\n",
    "y = new_dataframe.iloc[:,-1]"
   ]
  },
  {
   "cell_type": "markdown",
   "metadata": {},
   "source": [
    "### Fit a StandardScaler on the features"
   ]
  },
  {
   "cell_type": "code",
   "execution_count": 30,
   "metadata": {},
   "outputs": [],
   "source": [
    "# Fitting a Standard Scaler \n",
    "\n",
    "ss = StandardScaler()\n",
    "X = ss.fit_transform(X)"
   ]
  },
  {
   "cell_type": "markdown",
   "metadata": {},
   "source": [
    "### Convert array to a dataframe"
   ]
  },
  {
   "cell_type": "code",
   "execution_count": 31,
   "metadata": {},
   "outputs": [],
   "source": [
    "X = pd.DataFrame(X,columns=columns[:-1])"
   ]
  },
  {
   "cell_type": "code",
   "execution_count": 32,
   "metadata": {},
   "outputs": [
    {
     "data": {
      "text/html": [
       "<div>\n",
       "<style scoped>\n",
       "    .dataframe tbody tr th:only-of-type {\n",
       "        vertical-align: middle;\n",
       "    }\n",
       "\n",
       "    .dataframe tbody tr th {\n",
       "        vertical-align: top;\n",
       "    }\n",
       "\n",
       "    .dataframe thead th {\n",
       "        text-align: right;\n",
       "    }\n",
       "</style>\n",
       "<table border=\"1\" class=\"dataframe\">\n",
       "  <thead>\n",
       "    <tr style=\"text-align: right;\">\n",
       "      <th></th>\n",
       "      <th>age</th>\n",
       "      <th>fnlwgt</th>\n",
       "      <th>education-num</th>\n",
       "      <th>hours-per-week</th>\n",
       "      <th>native-country</th>\n",
       "      <th>Workclass</th>\n",
       "      <th>education</th>\n",
       "      <th>marital-status</th>\n",
       "      <th>occupation</th>\n",
       "      <th>relationship</th>\n",
       "      <th>race</th>\n",
       "      <th>sex</th>\n",
       "    </tr>\n",
       "  </thead>\n",
       "  <tbody>\n",
       "    <tr>\n",
       "      <th>0</th>\n",
       "      <td>0.081561</td>\n",
       "      <td>-1.156398</td>\n",
       "      <td>1.111052</td>\n",
       "      <td>-0.060217</td>\n",
       "      <td>0.260938</td>\n",
       "      <td>3.026993</td>\n",
       "      <td>-0.379789</td>\n",
       "      <td>0.935132</td>\n",
       "      <td>-1.570166</td>\n",
       "      <td>-0.294678</td>\n",
       "      <td>0.390011</td>\n",
       "      <td>0.687155</td>\n",
       "    </tr>\n",
       "    <tr>\n",
       "      <th>1</th>\n",
       "      <td>0.939653</td>\n",
       "      <td>-1.037652</td>\n",
       "      <td>1.111052</td>\n",
       "      <td>-2.361827</td>\n",
       "      <td>0.260938</td>\n",
       "      <td>1.941567</td>\n",
       "      <td>-0.379789</td>\n",
       "      <td>-0.402437</td>\n",
       "      <td>-0.819975</td>\n",
       "      <td>-0.902893</td>\n",
       "      <td>0.390011</td>\n",
       "      <td>0.687155</td>\n",
       "    </tr>\n",
       "    <tr>\n",
       "      <th>2</th>\n",
       "      <td>0.003553</td>\n",
       "      <td>0.466895</td>\n",
       "      <td>-0.488677</td>\n",
       "      <td>-0.060217</td>\n",
       "      <td>0.260938</td>\n",
       "      <td>-0.229286</td>\n",
       "      <td>0.167999</td>\n",
       "      <td>-1.740006</td>\n",
       "      <td>-0.319849</td>\n",
       "      <td>-0.294678</td>\n",
       "      <td>0.390011</td>\n",
       "      <td>0.687155</td>\n",
       "    </tr>\n",
       "    <tr>\n",
       "      <th>3</th>\n",
       "      <td>1.173678</td>\n",
       "      <td>0.595712</td>\n",
       "      <td>-1.288541</td>\n",
       "      <td>-0.060217</td>\n",
       "      <td>0.260938</td>\n",
       "      <td>-0.229286</td>\n",
       "      <td>-2.570939</td>\n",
       "      <td>-0.402437</td>\n",
       "      <td>-0.319849</td>\n",
       "      <td>-0.902893</td>\n",
       "      <td>-2.079263</td>\n",
       "      <td>0.687155</td>\n",
       "    </tr>\n",
       "    <tr>\n",
       "      <th>4</th>\n",
       "      <td>-0.776531</td>\n",
       "      <td>1.142525</td>\n",
       "      <td>1.111052</td>\n",
       "      <td>-0.060217</td>\n",
       "      <td>-5.619778</td>\n",
       "      <td>-0.229286</td>\n",
       "      <td>-0.379789</td>\n",
       "      <td>-0.402437</td>\n",
       "      <td>0.680405</td>\n",
       "      <td>2.138182</td>\n",
       "      <td>-2.079263</td>\n",
       "      <td>-1.455275</td>\n",
       "    </tr>\n",
       "  </tbody>\n",
       "</table>\n",
       "</div>"
      ],
      "text/plain": [
       "        age    fnlwgt  education-num  hours-per-week  native-country  \\\n",
       "0  0.081561 -1.156398       1.111052       -0.060217        0.260938   \n",
       "1  0.939653 -1.037652       1.111052       -2.361827        0.260938   \n",
       "2  0.003553  0.466895      -0.488677       -0.060217        0.260938   \n",
       "3  1.173678  0.595712      -1.288541       -0.060217        0.260938   \n",
       "4 -0.776531  1.142525       1.111052       -0.060217       -5.619778   \n",
       "\n",
       "   Workclass  education  marital-status  occupation  relationship      race  \\\n",
       "0   3.026993  -0.379789        0.935132   -1.570166     -0.294678  0.390011   \n",
       "1   1.941567  -0.379789       -0.402437   -0.819975     -0.902893  0.390011   \n",
       "2  -0.229286   0.167999       -1.740006   -0.319849     -0.294678  0.390011   \n",
       "3  -0.229286  -2.570939       -0.402437   -0.319849     -0.902893 -2.079263   \n",
       "4  -0.229286  -0.379789       -0.402437    0.680405      2.138182 -2.079263   \n",
       "\n",
       "        sex  \n",
       "0  0.687155  \n",
       "1  0.687155  \n",
       "2  0.687155  \n",
       "3  0.687155  \n",
       "4 -1.455275  "
      ]
     },
     "execution_count": 32,
     "metadata": {},
     "output_type": "execute_result"
    }
   ],
   "source": [
    "X.head()"
   ]
  },
  {
   "cell_type": "markdown",
   "metadata": {},
   "source": [
    "### Split into train and validation data"
   ]
  },
  {
   "cell_type": "code",
   "execution_count": 33,
   "metadata": {},
   "outputs": [],
   "source": [
    " \n",
    "\n",
    "X_train,X_valid,y_train,y_valid = train_test_split(X,y,random_state=42,test_size=0.2)"
   ]
  },
  {
   "cell_type": "markdown",
   "metadata": {},
   "source": [
    "### Fit a logistic regression model"
   ]
  },
  {
   "cell_type": "code",
   "execution_count": 34,
   "metadata": {},
   "outputs": [],
   "source": [
    "logreg = LogisticRegression()\n",
    "logreg.fit(X_train,y_train)\n",
    "\n",
    "y_pred = logreg.predict(X_valid)"
   ]
  },
  {
   "cell_type": "markdown",
   "metadata": {},
   "source": [
    "### Checking the accuracy, f1_score, confusion matrix"
   ]
  },
  {
   "cell_type": "code",
   "execution_count": 35,
   "metadata": {},
   "outputs": [
    {
     "name": "stdout",
     "output_type": "stream",
     "text": [
      "Accuracy is 0.8164251207729468\n",
      "F1-score is 0.45714285714285713\n",
      "Confusion Matrix is\n",
      "\n",
      "[[153  11]\n",
      " [ 27  16]]\n"
     ]
    }
   ],
   "source": [
    "print('Accuracy is {}'.format(accuracy_score(y_valid,y_pred)))\n",
    "print('F1-score is {}'.format(f1_score(y_valid,y_pred)))\n",
    "print('Confusion Matrix is')\n",
    "print()\n",
    "print((confusion_matrix(y_valid,y_pred)))"
   ]
  },
  {
   "cell_type": "markdown",
   "metadata": {},
   "source": [
    "### Perform hyperparameter tuning using GridSearch"
   ]
  },
  {
   "cell_type": "code",
   "execution_count": 36,
   "metadata": {},
   "outputs": [],
   "source": [
    "params = {'penalty':['l1','l2'],'C':[0.001,0.01,0.1,1,10,100]}\n",
    "grid_search = GridSearchCV(estimator=logreg, param_grid=params,scoring='f1',cv=10)\n",
    "grid_search.fit(X_train,y_train)\n",
    "y_pred_grid_search = grid_search.predict(X_valid)"
   ]
  },
  {
   "cell_type": "markdown",
   "metadata": {},
   "source": [
    "### Find the best parameters and the metrics after grid search"
   ]
  },
  {
   "cell_type": "code",
   "execution_count": 37,
   "metadata": {},
   "outputs": [
    {
     "data": {
      "text/plain": [
       "{'C': 1, 'penalty': 'l2'}"
      ]
     },
     "execution_count": 37,
     "metadata": {},
     "output_type": "execute_result"
    }
   ],
   "source": [
    "grid_search.best_params_"
   ]
  },
  {
   "cell_type": "code",
   "execution_count": 38,
   "metadata": {},
   "outputs": [
    {
     "name": "stdout",
     "output_type": "stream",
     "text": [
      "Accuracy after grid search is 0.8164251207729468\n",
      "F1-score after grid search is 0.45714285714285713\n",
      "Confusion Matrix is\n",
      "\n",
      "[[153  11]\n",
      " [ 27  16]]\n"
     ]
    }
   ],
   "source": [
    "print('Accuracy after grid search is {}'.format(accuracy_score(y_valid,y_pred_grid_search)))\n",
    "print('F1-score after grid search is {}'.format(f1_score(y_valid,y_pred_grid_search)))\n",
    "print('Confusion Matrix is')\n",
    "print()\n",
    "print((confusion_matrix(y_valid,y_pred_grid_search)))"
   ]
  },
  {
   "cell_type": "markdown",
   "metadata": {},
   "source": [
    "### Applying Deep Learning"
   ]
  },
  {
   "cell_type": "code",
   "execution_count": 39,
   "metadata": {},
   "outputs": [
    {
     "name": "stderr",
     "output_type": "stream",
     "text": [
      "Using TensorFlow backend.\n"
     ]
    }
   ],
   "source": [
    "import keras\n",
    "from keras.models import Sequential\n",
    "from keras.layers.core import Dense, Dropout, Activation\n"
   ]
  },
  {
   "cell_type": "code",
   "execution_count": 40,
   "metadata": {},
   "outputs": [
    {
     "name": "stdout",
     "output_type": "stream",
     "text": [
      "Model: \"sequential_1\"\n",
      "_________________________________________________________________\n",
      "Layer (type)                 Output Shape              Param #   \n",
      "=================================================================\n",
      "dense_1 (Dense)              (None, 10)                130       \n",
      "_________________________________________________________________\n",
      "dense_2 (Dense)              (None, 20)                220       \n",
      "_________________________________________________________________\n",
      "dense_3 (Dense)              (None, 5)                 105       \n",
      "_________________________________________________________________\n",
      "dense_4 (Dense)              (None, 1)                 6         \n",
      "=================================================================\n",
      "Total params: 461\n",
      "Trainable params: 461\n",
      "Non-trainable params: 0\n",
      "_________________________________________________________________\n",
      "WARNING:tensorflow:From C:\\Users\\SUCHITRA\\Anaconda3\\lib\\site-packages\\tensorflow\\python\\ops\\nn_impl.py:180: add_dispatch_support.<locals>.wrapper (from tensorflow.python.ops.array_ops) is deprecated and will be removed in a future version.\n",
      "Instructions for updating:\n",
      "Use tf.where in 2.0, which has the same broadcast rule as np.where\n",
      "WARNING:tensorflow:From C:\\Users\\SUCHITRA\\Anaconda3\\lib\\site-packages\\keras\\backend\\tensorflow_backend.py:422: The name tf.global_variables is deprecated. Please use tf.compat.v1.global_variables instead.\n",
      "\n",
      "Epoch 1/20\n",
      "825/825 [==============================] - 2s 3ms/step - loss: 0.6249\n",
      "Epoch 2/20\n",
      "825/825 [==============================] - 0s 157us/step - loss: 0.6038\n",
      "Epoch 3/20\n",
      "825/825 [==============================] - 0s 150us/step - loss: 0.5838\n",
      "Epoch 4/20\n",
      "825/825 [==============================] - 0s 132us/step - loss: 0.5658\n",
      "Epoch 5/20\n",
      "825/825 [==============================] - 0s 144us/step - loss: 0.5493\n",
      "Epoch 6/20\n",
      "825/825 [==============================] - 0s 127us/step - loss: 0.5360\n",
      "Epoch 7/20\n",
      "825/825 [==============================] - 0s 131us/step - loss: 0.5247\n",
      "Epoch 8/20\n",
      "825/825 [==============================] - 0s 125us/step - loss: 0.5152\n",
      "Epoch 9/20\n",
      "825/825 [==============================] - 0s 141us/step - loss: 0.5072\n",
      "Epoch 10/20\n",
      "825/825 [==============================] - 0s 99us/step - loss: 0.5003\n",
      "Epoch 11/20\n",
      "825/825 [==============================] - 0s 93us/step - loss: 0.4942\n",
      "Epoch 12/20\n",
      "825/825 [==============================] - 0s 113us/step - loss: 0.4886\n",
      "Epoch 13/20\n",
      "825/825 [==============================] - 0s 86us/step - loss: 0.4837\n",
      "Epoch 14/20\n",
      "825/825 [==============================] - 0s 99us/step - loss: 0.4794\n",
      "Epoch 15/20\n",
      "825/825 [==============================] - 0s 65us/step - loss: 0.4749\n",
      "Epoch 16/20\n",
      "825/825 [==============================] - 0s 69us/step - loss: 0.4705\n",
      "Epoch 17/20\n",
      "825/825 [==============================] - 0s 61us/step - loss: 0.4665\n",
      "Epoch 18/20\n",
      "825/825 [==============================] - 0s 61us/step - loss: 0.4626\n",
      "Epoch 19/20\n",
      "825/825 [==============================] - 0s 125us/step - loss: 0.4588\n",
      "Epoch 20/20\n",
      "825/825 [==============================] - ETA: 0s - loss: 0.511 - 0s 79us/step - loss: 0.4553\n"
     ]
    },
    {
     "data": {
      "text/plain": [
       "<keras.callbacks.callbacks.History at 0x18f1506f550>"
      ]
     },
     "execution_count": 40,
     "metadata": {},
     "output_type": "execute_result"
    }
   ],
   "source": [
    "model = Sequential()\n",
    "model.add(Dense(10,input_shape = (X_train.shape[1],),activation='relu'))\n",
    "model.add(Dense(20,activation='relu'))\n",
    "model.add(Dense(5,activation='relu'))\n",
    "model.add(Dense(1,activation='sigmoid'))\n",
    "model.summary()\n",
    "model.compile(loss='binary_crossentropy',optimizer='adam')\n",
    "model.fit(X_train,y_train,batch_size=100,epochs=20)"
   ]
  },
  {
   "cell_type": "code",
   "execution_count": 43,
   "metadata": {},
   "outputs": [],
   "source": [
    "y_pred = model.predict(X_valid)"
   ]
  },
  {
   "cell_type": "code",
   "execution_count": 44,
   "metadata": {},
   "outputs": [
    {
     "data": {
      "text/plain": [
       "array([[0.44717324],\n",
       "       [0.45503855],\n",
       "       [0.01714185],\n",
       "       [0.3414689 ],\n",
       "       [0.01922241],\n",
       "       [0.02830213],\n",
       "       [0.39892963],\n",
       "       [0.11218226],\n",
       "       [0.3869773 ],\n",
       "       [0.292172  ],\n",
       "       [0.37097794],\n",
       "       [0.3470859 ],\n",
       "       [0.00751519],\n",
       "       [0.09901926],\n",
       "       [0.39415187],\n",
       "       [0.10377771],\n",
       "       [0.10917896],\n",
       "       [0.112638  ],\n",
       "       [0.16155267],\n",
       "       [0.3259049 ],\n",
       "       [0.0407407 ],\n",
       "       [0.01555437],\n",
       "       [0.41596743],\n",
       "       [0.02964258],\n",
       "       [0.28151008],\n",
       "       [0.4139548 ],\n",
       "       [0.22492635],\n",
       "       [0.16011652],\n",
       "       [0.01939002],\n",
       "       [0.37042627],\n",
       "       [0.00860107],\n",
       "       [0.31112933],\n",
       "       [0.06271926],\n",
       "       [0.11143175],\n",
       "       [0.03318989],\n",
       "       [0.01825389],\n",
       "       [0.42888844],\n",
       "       [0.11671695],\n",
       "       [0.38286474],\n",
       "       [0.43251523],\n",
       "       [0.25206903],\n",
       "       [0.1679087 ],\n",
       "       [0.39918312],\n",
       "       [0.3279946 ],\n",
       "       [0.21282816],\n",
       "       [0.22672087],\n",
       "       [0.3904351 ],\n",
       "       [0.46040595],\n",
       "       [0.360486  ],\n",
       "       [0.01446307],\n",
       "       [0.35161427],\n",
       "       [0.34124547],\n",
       "       [0.45845896],\n",
       "       [0.3593177 ],\n",
       "       [0.3499449 ],\n",
       "       [0.40484083],\n",
       "       [0.2990947 ],\n",
       "       [0.38814247],\n",
       "       [0.01756757],\n",
       "       [0.3539204 ],\n",
       "       [0.43992454],\n",
       "       [0.06408748],\n",
       "       [0.4297327 ],\n",
       "       [0.43793085],\n",
       "       [0.11806375],\n",
       "       [0.15654483],\n",
       "       [0.16328466],\n",
       "       [0.05756333],\n",
       "       [0.01442662],\n",
       "       [0.42036277],\n",
       "       [0.20853224],\n",
       "       [0.42655662],\n",
       "       [0.39544865],\n",
       "       [0.02009729],\n",
       "       [0.03987554],\n",
       "       [0.09920904],\n",
       "       [0.36481637],\n",
       "       [0.38938698],\n",
       "       [0.12212023],\n",
       "       [0.40604937],\n",
       "       [0.4056923 ],\n",
       "       [0.4258897 ],\n",
       "       [0.28258377],\n",
       "       [0.42235005],\n",
       "       [0.40050277],\n",
       "       [0.11256868],\n",
       "       [0.26870185],\n",
       "       [0.4291603 ],\n",
       "       [0.34039944],\n",
       "       [0.3824023 ],\n",
       "       [0.209764  ],\n",
       "       [0.08198303],\n",
       "       [0.37390995],\n",
       "       [0.07538009],\n",
       "       [0.4876598 ],\n",
       "       [0.31397992],\n",
       "       [0.41326556],\n",
       "       [0.01164442],\n",
       "       [0.25310224],\n",
       "       [0.20698002],\n",
       "       [0.41760594],\n",
       "       [0.11728817],\n",
       "       [0.12190369],\n",
       "       [0.18092397],\n",
       "       [0.3280806 ],\n",
       "       [0.41491675],\n",
       "       [0.37865102],\n",
       "       [0.06781992],\n",
       "       [0.33216903],\n",
       "       [0.23690704],\n",
       "       [0.05552372],\n",
       "       [0.28142622],\n",
       "       [0.26441503],\n",
       "       [0.33132926],\n",
       "       [0.05083314],\n",
       "       [0.02616692],\n",
       "       [0.3152877 ],\n",
       "       [0.4175216 ],\n",
       "       [0.08753258],\n",
       "       [0.3168907 ],\n",
       "       [0.22154191],\n",
       "       [0.21235797],\n",
       "       [0.41833374],\n",
       "       [0.42086112],\n",
       "       [0.01136291],\n",
       "       [0.00404689],\n",
       "       [0.00478461],\n",
       "       [0.25832754],\n",
       "       [0.25872025],\n",
       "       [0.41231844],\n",
       "       [0.28907263],\n",
       "       [0.21314096],\n",
       "       [0.43934774],\n",
       "       [0.3532289 ],\n",
       "       [0.39100838],\n",
       "       [0.01556474],\n",
       "       [0.37021214],\n",
       "       [0.33221394],\n",
       "       [0.19870156],\n",
       "       [0.3875999 ],\n",
       "       [0.05084234],\n",
       "       [0.29215765],\n",
       "       [0.47401008],\n",
       "       [0.3631314 ],\n",
       "       [0.23306209],\n",
       "       [0.00895855],\n",
       "       [0.4137755 ],\n",
       "       [0.31846452],\n",
       "       [0.18432036],\n",
       "       [0.10036984],\n",
       "       [0.3107041 ],\n",
       "       [0.30852968],\n",
       "       [0.33213484],\n",
       "       [0.39662305],\n",
       "       [0.22083753],\n",
       "       [0.43275344],\n",
       "       [0.45501643],\n",
       "       [0.00864533],\n",
       "       [0.0276812 ],\n",
       "       [0.31777725],\n",
       "       [0.07062057],\n",
       "       [0.3148929 ],\n",
       "       [0.30762506],\n",
       "       [0.02192408],\n",
       "       [0.0263522 ],\n",
       "       [0.12129918],\n",
       "       [0.16026428],\n",
       "       [0.42820865],\n",
       "       [0.15782768],\n",
       "       [0.00523156],\n",
       "       [0.07289314],\n",
       "       [0.26228023],\n",
       "       [0.07675773],\n",
       "       [0.3906041 ],\n",
       "       [0.34989908],\n",
       "       [0.09938878],\n",
       "       [0.14143112],\n",
       "       [0.0051448 ],\n",
       "       [0.03222328],\n",
       "       [0.20985666],\n",
       "       [0.39458454],\n",
       "       [0.17208168],\n",
       "       [0.09453154],\n",
       "       [0.01210442],\n",
       "       [0.06651744],\n",
       "       [0.17066517],\n",
       "       [0.37669903],\n",
       "       [0.31781277],\n",
       "       [0.05719951],\n",
       "       [0.43196768],\n",
       "       [0.1065641 ],\n",
       "       [0.13749465],\n",
       "       [0.00782993],\n",
       "       [0.22573498],\n",
       "       [0.32508796],\n",
       "       [0.01464316],\n",
       "       [0.26798353],\n",
       "       [0.01508811],\n",
       "       [0.04463658],\n",
       "       [0.33214945],\n",
       "       [0.07690504],\n",
       "       [0.35744014],\n",
       "       [0.05591422],\n",
       "       [0.11491811],\n",
       "       [0.06989851],\n",
       "       [0.41852218],\n",
       "       [0.3679142 ]], dtype=float32)"
      ]
     },
     "execution_count": 44,
     "metadata": {},
     "output_type": "execute_result"
    }
   ],
   "source": [
    "y_pred"
   ]
  },
  {
   "cell_type": "code",
   "execution_count": 45,
   "metadata": {},
   "outputs": [],
   "source": [
    "y_pred = np.where(y_pred>0.5,1,0)"
   ]
  },
  {
   "cell_type": "code",
   "execution_count": 46,
   "metadata": {},
   "outputs": [
    {
     "data": {
      "text/plain": [
       "array([[0],\n",
       "       [0],\n",
       "       [0],\n",
       "       [0],\n",
       "       [0],\n",
       "       [0],\n",
       "       [0],\n",
       "       [0],\n",
       "       [0],\n",
       "       [0],\n",
       "       [0],\n",
       "       [0],\n",
       "       [0],\n",
       "       [0],\n",
       "       [0],\n",
       "       [0],\n",
       "       [0],\n",
       "       [0],\n",
       "       [0],\n",
       "       [0],\n",
       "       [0],\n",
       "       [0],\n",
       "       [0],\n",
       "       [0],\n",
       "       [0],\n",
       "       [0],\n",
       "       [0],\n",
       "       [0],\n",
       "       [0],\n",
       "       [0],\n",
       "       [0],\n",
       "       [0],\n",
       "       [0],\n",
       "       [0],\n",
       "       [0],\n",
       "       [0],\n",
       "       [0],\n",
       "       [0],\n",
       "       [0],\n",
       "       [0],\n",
       "       [0],\n",
       "       [0],\n",
       "       [0],\n",
       "       [0],\n",
       "       [0],\n",
       "       [0],\n",
       "       [0],\n",
       "       [0],\n",
       "       [0],\n",
       "       [0],\n",
       "       [0],\n",
       "       [0],\n",
       "       [0],\n",
       "       [0],\n",
       "       [0],\n",
       "       [0],\n",
       "       [0],\n",
       "       [0],\n",
       "       [0],\n",
       "       [0],\n",
       "       [0],\n",
       "       [0],\n",
       "       [0],\n",
       "       [0],\n",
       "       [0],\n",
       "       [0],\n",
       "       [0],\n",
       "       [0],\n",
       "       [0],\n",
       "       [0],\n",
       "       [0],\n",
       "       [0],\n",
       "       [0],\n",
       "       [0],\n",
       "       [0],\n",
       "       [0],\n",
       "       [0],\n",
       "       [0],\n",
       "       [0],\n",
       "       [0],\n",
       "       [0],\n",
       "       [0],\n",
       "       [0],\n",
       "       [0],\n",
       "       [0],\n",
       "       [0],\n",
       "       [0],\n",
       "       [0],\n",
       "       [0],\n",
       "       [0],\n",
       "       [0],\n",
       "       [0],\n",
       "       [0],\n",
       "       [0],\n",
       "       [0],\n",
       "       [0],\n",
       "       [0],\n",
       "       [0],\n",
       "       [0],\n",
       "       [0],\n",
       "       [0],\n",
       "       [0],\n",
       "       [0],\n",
       "       [0],\n",
       "       [0],\n",
       "       [0],\n",
       "       [0],\n",
       "       [0],\n",
       "       [0],\n",
       "       [0],\n",
       "       [0],\n",
       "       [0],\n",
       "       [0],\n",
       "       [0],\n",
       "       [0],\n",
       "       [0],\n",
       "       [0],\n",
       "       [0],\n",
       "       [0],\n",
       "       [0],\n",
       "       [0],\n",
       "       [0],\n",
       "       [0],\n",
       "       [0],\n",
       "       [0],\n",
       "       [0],\n",
       "       [0],\n",
       "       [0],\n",
       "       [0],\n",
       "       [0],\n",
       "       [0],\n",
       "       [0],\n",
       "       [0],\n",
       "       [0],\n",
       "       [0],\n",
       "       [0],\n",
       "       [0],\n",
       "       [0],\n",
       "       [0],\n",
       "       [0],\n",
       "       [0],\n",
       "       [0],\n",
       "       [0],\n",
       "       [0],\n",
       "       [0],\n",
       "       [0],\n",
       "       [0],\n",
       "       [0],\n",
       "       [0],\n",
       "       [0],\n",
       "       [0],\n",
       "       [0],\n",
       "       [0],\n",
       "       [0],\n",
       "       [0],\n",
       "       [0],\n",
       "       [0],\n",
       "       [0],\n",
       "       [0],\n",
       "       [0],\n",
       "       [0],\n",
       "       [0],\n",
       "       [0],\n",
       "       [0],\n",
       "       [0],\n",
       "       [0],\n",
       "       [0],\n",
       "       [0],\n",
       "       [0],\n",
       "       [0],\n",
       "       [0],\n",
       "       [0],\n",
       "       [0],\n",
       "       [0],\n",
       "       [0],\n",
       "       [0],\n",
       "       [0],\n",
       "       [0],\n",
       "       [0],\n",
       "       [0],\n",
       "       [0],\n",
       "       [0],\n",
       "       [0],\n",
       "       [0],\n",
       "       [0],\n",
       "       [0],\n",
       "       [0],\n",
       "       [0],\n",
       "       [0],\n",
       "       [0],\n",
       "       [0],\n",
       "       [0],\n",
       "       [0],\n",
       "       [0],\n",
       "       [0],\n",
       "       [0],\n",
       "       [0],\n",
       "       [0],\n",
       "       [0],\n",
       "       [0],\n",
       "       [0],\n",
       "       [0],\n",
       "       [0],\n",
       "       [0],\n",
       "       [0],\n",
       "       [0],\n",
       "       [0]])"
      ]
     },
     "execution_count": 46,
     "metadata": {},
     "output_type": "execute_result"
    }
   ],
   "source": [
    "y_pred"
   ]
  },
  {
   "cell_type": "code",
   "execution_count": 47,
   "metadata": {},
   "outputs": [
    {
     "name": "stdout",
     "output_type": "stream",
     "text": [
      "accuracy 0.7922705314009661\n"
     ]
    }
   ],
   "source": [
    "print(\"accuracy\",accuracy_score(y_valid,y_pred))"
   ]
  },
  {
   "cell_type": "code",
   "execution_count": null,
   "metadata": {},
   "outputs": [],
   "source": []
  },
  {
   "cell_type": "code",
   "execution_count": null,
   "metadata": {},
   "outputs": [],
   "source": []
  },
  {
   "cell_type": "code",
   "execution_count": null,
   "metadata": {},
   "outputs": [],
   "source": []
  },
  {
   "cell_type": "code",
   "execution_count": null,
   "metadata": {},
   "outputs": [],
   "source": []
  }
 ],
 "metadata": {
  "kernelspec": {
   "display_name": "Python 3",
   "language": "python",
   "name": "python3"
  },
  "language_info": {
   "codemirror_mode": {
    "name": "ipython",
    "version": 3
   },
   "file_extension": ".py",
   "mimetype": "text/x-python",
   "name": "python",
   "nbconvert_exporter": "python",
   "pygments_lexer": "ipython3",
   "version": "3.7.3"
  }
 },
 "nbformat": 4,
 "nbformat_minor": 2
}
